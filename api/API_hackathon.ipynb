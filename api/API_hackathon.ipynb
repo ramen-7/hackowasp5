{
  "nbformat": 4,
  "nbformat_minor": 0,
  "metadata": {
    "colab": {
      "provenance": []
    },
    "kernelspec": {
      "name": "python3",
      "display_name": "Python 3"
    },
    "language_info": {
      "name": "python"
    }
  },
  "cells": [
    {
      "cell_type": "code",
      "source": [
        "!pip install pyngrok"
      ],
      "metadata": {
        "colab": {
          "base_uri": "https://localhost:8080/"
        },
        "id": "LCAQNDZ8lpps",
        "outputId": "582d9470-2f33-47c2-9302-da39c98aac95"
      },
      "execution_count": 18,
      "outputs": [
        {
          "output_type": "stream",
          "name": "stdout",
          "text": [
            "Looking in indexes: https://pypi.org/simple, https://us-python.pkg.dev/colab-wheels/public/simple/\n",
            "Requirement already satisfied: pyngrok in /usr/local/lib/python3.9/dist-packages (6.0.0)\n",
            "Requirement already satisfied: PyYAML in /usr/local/lib/python3.9/dist-packages (from pyngrok) (6.0)\n"
          ]
        }
      ]
    },
    {
      "cell_type": "code",
      "source": [
        "!pip install flask_ngrok\n",
        "!pip install flask-cors\n"
      ],
      "metadata": {
        "colab": {
          "base_uri": "https://localhost:8080/"
        },
        "id": "14Dbb3L0YB1s",
        "outputId": "715ada9a-7f72-45b8-bffe-b8cfe87c5520"
      },
      "execution_count": 19,
      "outputs": [
        {
          "output_type": "stream",
          "name": "stdout",
          "text": [
            "Looking in indexes: https://pypi.org/simple, https://us-python.pkg.dev/colab-wheels/public/simple/\n",
            "Requirement already satisfied: flask_ngrok in /usr/local/lib/python3.9/dist-packages (0.0.25)\n",
            "Requirement already satisfied: requests in /usr/local/lib/python3.9/dist-packages (from flask_ngrok) (2.11.1)\n",
            "Requirement already satisfied: Flask>=0.8 in /usr/local/lib/python3.9/dist-packages (from flask_ngrok) (2.2.3)\n",
            "Requirement already satisfied: itsdangerous>=2.0 in /usr/local/lib/python3.9/dist-packages (from Flask>=0.8->flask_ngrok) (2.1.2)\n",
            "Requirement already satisfied: click>=8.0 in /usr/local/lib/python3.9/dist-packages (from Flask>=0.8->flask_ngrok) (8.1.3)\n",
            "Requirement already satisfied: Werkzeug>=2.2.2 in /usr/local/lib/python3.9/dist-packages (from Flask>=0.8->flask_ngrok) (2.2.3)\n",
            "Requirement already satisfied: Jinja2>=3.0 in /usr/local/lib/python3.9/dist-packages (from Flask>=0.8->flask_ngrok) (3.1.2)\n",
            "Requirement already satisfied: importlib-metadata>=3.6.0 in /usr/local/lib/python3.9/dist-packages (from Flask>=0.8->flask_ngrok) (6.3.0)\n",
            "Requirement already satisfied: zipp>=0.5 in /usr/local/lib/python3.9/dist-packages (from importlib-metadata>=3.6.0->Flask>=0.8->flask_ngrok) (3.15.0)\n",
            "Requirement already satisfied: MarkupSafe>=2.0 in /usr/local/lib/python3.9/dist-packages (from Jinja2>=3.0->Flask>=0.8->flask_ngrok) (2.1.2)\n",
            "Looking in indexes: https://pypi.org/simple, https://us-python.pkg.dev/colab-wheels/public/simple/\n",
            "Requirement already satisfied: flask-cors in /usr/local/lib/python3.9/dist-packages (3.0.10)\n",
            "Requirement already satisfied: Flask>=0.9 in /usr/local/lib/python3.9/dist-packages (from flask-cors) (2.2.3)\n",
            "Requirement already satisfied: Six in /usr/local/lib/python3.9/dist-packages (from flask-cors) (1.16.0)\n",
            "Requirement already satisfied: itsdangerous>=2.0 in /usr/local/lib/python3.9/dist-packages (from Flask>=0.9->flask-cors) (2.1.2)\n",
            "Requirement already satisfied: Werkzeug>=2.2.2 in /usr/local/lib/python3.9/dist-packages (from Flask>=0.9->flask-cors) (2.2.3)\n",
            "Requirement already satisfied: importlib-metadata>=3.6.0 in /usr/local/lib/python3.9/dist-packages (from Flask>=0.9->flask-cors) (6.3.0)\n",
            "Requirement already satisfied: Jinja2>=3.0 in /usr/local/lib/python3.9/dist-packages (from Flask>=0.9->flask-cors) (3.1.2)\n",
            "Requirement already satisfied: click>=8.0 in /usr/local/lib/python3.9/dist-packages (from Flask>=0.9->flask-cors) (8.1.3)\n",
            "Requirement already satisfied: zipp>=0.5 in /usr/local/lib/python3.9/dist-packages (from importlib-metadata>=3.6.0->Flask>=0.9->flask-cors) (3.15.0)\n",
            "Requirement already satisfied: MarkupSafe>=2.0 in /usr/local/lib/python3.9/dist-packages (from Jinja2>=3.0->Flask>=0.9->flask-cors) (2.1.2)\n"
          ]
        }
      ]
    },
    {
      "cell_type": "code",
      "source": [
        "!git clone https://github.com/ramen-7/hackowasp5.git"
      ],
      "metadata": {
        "colab": {
          "base_uri": "https://localhost:8080/"
        },
        "id": "wl0pGGm_tuKi",
        "outputId": "23597441-00ed-425b-d09a-71f6b234b3db"
      },
      "execution_count": 15,
      "outputs": [
        {
          "output_type": "stream",
          "name": "stdout",
          "text": [
            "Cloning into 'hackowasp5'...\n",
            "remote: Enumerating objects: 55, done.\u001b[K\n",
            "remote: Counting objects: 100% (25/25), done.\u001b[K\n",
            "remote: Compressing objects: 100% (19/19), done.\u001b[K\n",
            "remote: Total 55 (delta 8), reused 18 (delta 4), pack-reused 30\u001b[K\n",
            "Unpacking objects: 100% (55/55), 99.76 MiB | 6.90 MiB/s, done.\n",
            "Updating files: 100% (23/23), done.\n"
          ]
        }
      ]
    },
    {
      "cell_type": "code",
      "source": [
        "import pandas as pd\n",
        "import numpy as np\n",
        "import seaborn as sns\n",
        "import matplotlib.pyplot as plt\n",
        "from sklearn.model_selection import train_test_split\n",
        "from sklearn.metrics import accuracy_score\n",
        "from sklearn.metrics import classification_report\n",
        "import re\n",
        "import string\n",
        "\n",
        "df_fake = pd.read_csv(\"/content/hackowasp5/Fake.csv\")\n",
        "df_true = pd.read_csv(\"/content/hackowasp5/True.csv\")\n",
        "\n",
        "df_1 = pd.read_csv('/content/hackowasp5/train.csv', sep = \";\")\n",
        "df_2 = pd.read_csv('/content/hackowasp5/train_2.csv', sep = \";\")\n",
        "df_3 = pd.read_csv('/content/hackowasp5/train_4.csv', sep = \";\")\n",
        "df_4 = pd.read_csv('/content/hackowasp5/train_5.csv', sep = \";\")\n",
        "df_5 = pd.read_csv('/content/hackowasp5/test.csv', sep = \";\")\n",
        "df_6 = pd.read_csv('/content/hackowasp5/test_2.csv', sep = \";\")\n",
        "df_7 = pd.read_csv('/content/hackowasp5/test_3.csv', sep = \";\")\n",
        "df_8 = pd.read_csv('/content/hackowasp5/test_5.csv', sep = \";\")\n",
        "\n",
        "df_fake[\"class\"] = 0\n",
        "df_true[\"class\"] = 1\n",
        "\n",
        "# Removing last 10 rows for manual testing\n",
        "df_fake_manual_testing = df_fake.tail(10)\n",
        "df_fake.drop(df_fake.tail(10).index, inplace = True)\n",
        "    \n",
        "    \n",
        "df_true_manual_testing = df_true.tail(10)\n",
        "df_true.drop(df_true.tail(10).index, inplace = True)\n",
        "\n",
        "df_fake_manual_testing[\"class\"] = 0\n",
        "df_true_manual_testing[\"class\"] = 1\n",
        "\n",
        "df_manual_testing = pd.concat([df_fake_manual_testing,df_true_manual_testing], axis = 0)\n",
        "\n",
        "df_merge = pd.concat([df_fake, df_true], axis =0 )\n",
        "\n",
        "df = df_merge.drop([\"title\", \"subject\",\"date\"], axis = 1)\n",
        "\n",
        "df = pd.concat([df, df_1, df_2, df_3, df_4, df_5, df_6, df_7, df_8], axis=0)\n",
        "\n",
        "df.reset_index(inplace = True)\n",
        "df.drop([\"index\"], axis = 1, inplace = True)\n",
        "\n",
        "def wordopt(text):\n",
        "    text = text.lower()\n",
        "    text = re.sub('\\[.*?\\]', '', text) # removes occurences of text such as [abc], [123], [xyz123]\n",
        "    text = re.sub(\"\\\\W\",\" \",text) # replaces all non-word characters (e.g. punctuation marks, special characters)\n",
        "    text = re.sub('https?://\\S+|www\\.\\S+', '', text) #  will match both URLs that start with \"http://\" or \"https://\" and URLs that start with \"www\"\n",
        "    text = re.sub('<.*?>+', '', text) # the regular expression pattern <.*?>+ will match all HTML tags\n",
        "    text = re.sub('[%s]' % re.escape(string.punctuation), '', text) # removes punctuations\n",
        "    text = re.sub('\\n', '', text) # removes next line\n",
        "    text = re.sub('\\w*\\d\\w*', '', text) # removes any string containing digits\n",
        "    return text\n",
        "\n",
        "df[\"text\"] = df[\"text\"].apply(wordopt)\n",
        "x = df[\"text\"]\n",
        "y = df[\"class\"]\n",
        "x_train, x_test, y_train, y_test = train_test_split(x, y, test_size=0.25)\n",
        "\n",
        "\n"
      ],
      "metadata": {
        "colab": {
          "base_uri": "https://localhost:8080/"
        },
        "id": "keopbsxyuBrw",
        "outputId": "e56ff952-fb8d-42f1-8c0e-2b6170bcf77f"
      },
      "execution_count": 20,
      "outputs": [
        {
          "output_type": "stream",
          "name": "stderr",
          "text": [
            "<ipython-input-20-0ba615a9b627>:34: SettingWithCopyWarning: \n",
            "A value is trying to be set on a copy of a slice from a DataFrame.\n",
            "Try using .loc[row_indexer,col_indexer] = value instead\n",
            "\n",
            "See the caveats in the documentation: https://pandas.pydata.org/pandas-docs/stable/user_guide/indexing.html#returning-a-view-versus-a-copy\n",
            "  df_fake_manual_testing[\"class\"] = 0\n",
            "<ipython-input-20-0ba615a9b627>:35: SettingWithCopyWarning: \n",
            "A value is trying to be set on a copy of a slice from a DataFrame.\n",
            "Try using .loc[row_indexer,col_indexer] = value instead\n",
            "\n",
            "See the caveats in the documentation: https://pandas.pydata.org/pandas-docs/stable/user_guide/indexing.html#returning-a-view-versus-a-copy\n",
            "  df_true_manual_testing[\"class\"] = 1\n"
          ]
        }
      ]
    },
    {
      "cell_type": "code",
      "source": [
        "from sklearn.feature_extraction.text import TfidfVectorizer\n",
        "import joblib\n",
        "vectorization = TfidfVectorizer()\n",
        "xv_train = vectorization.fit_transform(x_train)\n",
        "xv_test = vectorization.transform(x_test)\n",
        "\n",
        "def output_lable(n):\n",
        "  if n == 0:\n",
        "    return \"Fake News\"\n",
        "  elif n == 1:\n",
        "    return \"Not A Fake News\"\n",
        "\n",
        "RFC = joblib.load(\"/content/drive/MyDrive/Hackowasp/rfc.pkl\")\n"
      ],
      "metadata": {
        "colab": {
          "base_uri": "https://localhost:8080/"
        },
        "id": "cMa8rcDBvDiw",
        "outputId": "4c977b40-a67e-47b7-d47a-001209dd5b71"
      },
      "execution_count": 21,
      "outputs": [
        {
          "output_type": "stream",
          "name": "stderr",
          "text": [
            "/usr/local/lib/python3.9/dist-packages/sklearn/base.py:318: UserWarning: Trying to unpickle estimator DecisionTreeClassifier from version 0.23.2 when using version 1.2.2. This might lead to breaking code or invalid results. Use at your own risk. For more info please refer to:\n",
            "https://scikit-learn.org/stable/model_persistence.html#security-maintainability-limitations\n",
            "  warnings.warn(\n",
            "/usr/local/lib/python3.9/dist-packages/sklearn/base.py:318: UserWarning: Trying to unpickle estimator RandomForestClassifier from version 0.23.2 when using version 1.2.2. This might lead to breaking code or invalid results. Use at your own risk. For more info please refer to:\n",
            "https://scikit-learn.org/stable/model_persistence.html#security-maintainability-limitations\n",
            "  warnings.warn(\n"
          ]
        }
      ]
    },
    {
      "cell_type": "code",
      "source": [
        "# import os\n",
        "# import urllib.request\n",
        "# from werkzeug.utils import secure_filename\n",
        "# import subprocess\n",
        "# import sys\n",
        "# import shutil\n",
        "# from flask import Flask,request,jsonify\n",
        "# from flask_ngrok import run_with_ngrok\n",
        "# import random\n",
        "# from imageio import imread\n",
        "# import io, base64, os\n",
        "# import cv2\n",
        "# from flask_cors import CORS,cross_origin\n",
        "\n",
        "# app = Flask(__name__)\n",
        "# CORS(app,resources={r\"/api/*\":{\"origins\":\"*\"}})\n",
        "# app.config['CORS_HEADERS']='Content-Type'\n",
        "# run_with_ngrok(app)\n",
        "\n",
        "# success = True\n",
        "\n",
        "\n",
        "# @app.route(\"/\")\n",
        "# def index():\n",
        "#     return 'Homepage'\n",
        "\n",
        "# @app.route('/predict', methods=['POST'])\n",
        "# @cross_origin()\n",
        "# def predict():\n",
        "#   data = request.get_data(as_text=True)\n",
        "#   # # output = model.predict([input_string])[0]\n",
        "#   # # return output\n",
        "#   # output = getPred(data)\n",
        "#   # manual_testing(data)\n",
        "#   # final = {'value': float(output['groverprob']), 'value2': float(1)}\n",
        "#   # return json.dumps(final, indent=1)\n",
        "\n",
        "\n",
        "# if __name__ == '__main__':\n",
        "#     app.run()"
      ],
      "metadata": {
        "colab": {
          "base_uri": "https://localhost:8080/"
        },
        "id": "cZg5qPwfYK_P",
        "outputId": "4c5faad7-6b15-4789-96d1-ba93ecea2811"
      },
      "execution_count": 2,
      "outputs": [
        {
          "output_type": "stream",
          "name": "stdout",
          "text": [
            " * Serving Flask app '__main__'\n",
            " * Debug mode: off\n"
          ]
        },
        {
          "output_type": "stream",
          "name": "stderr",
          "text": [
            "INFO:werkzeug:\u001b[31m\u001b[1mWARNING: This is a development server. Do not use it in a production deployment. Use a production WSGI server instead.\u001b[0m\n",
            " * Running on http://127.0.0.1:5000\n",
            "INFO:werkzeug:\u001b[33mPress CTRL+C to quit\u001b[0m\n"
          ]
        },
        {
          "output_type": "stream",
          "name": "stdout",
          "text": [
            " * Running on http://4240-34-125-0-88.ngrok.io\n",
            " * Traffic stats available on http://127.0.0.1:4040\n"
          ]
        },
        {
          "output_type": "stream",
          "name": "stderr",
          "text": [
            "INFO:werkzeug:127.0.0.1 - - [16/Apr/2023 05:29:06] \"GET / HTTP/1.1\" 200 -\n"
          ]
        }
      ]
    },
    {
      "cell_type": "code",
      "source": [
        "from pyngrok import ngrok\n",
        "from flask import Flask,json,request\n",
        "from flask_ngrok import run_with_ngrok\n",
        "from flask_cors import CORS, cross_origin\n",
        "import requests\n",
        "port_no=5000\n",
        "ngrok.set_auth_token(\"2OUkypBpPR79p35b1Ti9GRQzkdN_7Eo5ufqNknAqhbRzYitHb\")\n",
        "public_url = ngrok.connect(port_no,bind_tls=True).public_url\n",
        "app = Flask(__name__)\n",
        "CORS(app,resources={r\"/api/*\":{\"origins\":\"*\"}})\n",
        "app.config['CORS_HEADERS']='Content-Type'\n",
        "run_with_ngrok(app)   \n",
        "\n",
        "def getPred(inp):\n",
        "  url = \"https://discriminate.grover.allenai.org/api/disc\"\n",
        "\n",
        "  payload = {\n",
        "    \"article\": f\"{inp}\",\n",
        "    \"domain\": \"\",\n",
        "    \"date\": \"\",\n",
        "    \"authors\": \"\",\n",
        "    \"title\": \"\",\n",
        "    \"target\": \"discrimination\"\n",
        "  }\n",
        "  headers = {\n",
        "    \"authority\": \"discriminate.grover.allenai.org\",\n",
        "    \"accept\": \"application/json, text/plain, */*\",\n",
        "    \"accept-language\": \"en-IN,en-GB;q=0.9,en-US;q=0.8,en;q=0.7\",\n",
        "    \"content-type\": \"application/json;charset=UTF-8\",\n",
        "    \"dnt\": \"1\",\n",
        "    \"origin\": \"https://grover.allenai.org\",\n",
        "    \"referer\": \"https://grover.allenai.org/\",\n",
        "  }\n",
        "\n",
        "  response = requests.request(\"POST\", url, json=payload, headers=headers)\n",
        "\n",
        "  return response.json()\n",
        "\n",
        "\n",
        "def manual_testing(news):\n",
        "  testing_news = {\"text\": [news]}\n",
        "  new_def_test = pd.DataFrame(testing_news)\n",
        "  new_def_test[\"text\"] = new_def_test[\"text\"].apply(wordopt)\n",
        "  new_x_test = new_def_test[\"text\"]\n",
        "  new_xv_test = vectorization.transform(new_x_test)\n",
        "  pred_RFC = RFC.predict(new_xv_test)\n",
        "  \n",
        "  print(pred_RFC)\n",
        "\n",
        "@app.route(\"/\")\n",
        "def home():\n",
        "    return \"Working\"\n",
        "\n",
        "@app.route('/predict', methods=['POST'])\n",
        "@cross_origin()\n",
        "def predict():\n",
        "  data = request.get_data(as_text=True)\n",
        "  # # output = model.predict([input_string])[0]\n",
        "  # # return output\n",
        "  output = getPred(data)\n",
        "  print(manual_testing(data))\n",
        "  final = {'value': float(output['groverprob']), 'value2': float(1)}\n",
        "  return json.dumps(final, indent=1)\n",
        "    \n",
        "app.run()"
      ],
      "metadata": {
        "id": "-kEu-1e6YPWl",
        "colab": {
          "base_uri": "https://localhost:8080/"
        },
        "outputId": "1c470917-b742-4876-d47e-2a86e32f8416"
      },
      "execution_count": 24,
      "outputs": [
        {
          "output_type": "stream",
          "name": "stderr",
          "text": [
            "WARNING:pyngrok.process.ngrok:t=2023-04-16T08:16:31+0000 lvl=warn msg=\"ngrok config file found at legacy location, move to XDG location\" xdg_path=/root/.config/ngrok/ngrok.yml legacy_path=/root/.ngrok2/ngrok.yml\n"
          ]
        },
        {
          "output_type": "stream",
          "name": "stdout",
          "text": [
            " * Serving Flask app '__main__'\n",
            " * Debug mode: off\n"
          ]
        },
        {
          "output_type": "stream",
          "name": "stderr",
          "text": [
            "INFO:werkzeug:\u001b[31m\u001b[1mWARNING: This is a development server. Do not use it in a production deployment. Use a production WSGI server instead.\u001b[0m\n",
            " * Running on http://127.0.0.1:5000\n",
            "INFO:werkzeug:\u001b[33mPress CTRL+C to quit\u001b[0m\n"
          ]
        },
        {
          "output_type": "stream",
          "name": "stdout",
          "text": [
            " * Running on http://a91a-34-125-0-88.ngrok-free.app\n",
            " * Traffic stats available on http://127.0.0.1:4040\n"
          ]
        },
        {
          "output_type": "stream",
          "name": "stderr",
          "text": [
            "ERROR:__main__:Exception on /predict [POST]\n",
            "Traceback (most recent call last):\n",
            "  File \"/usr/local/lib/python3.9/dist-packages/flask/app.py\", line 2528, in wsgi_app\n",
            "    response = self.full_dispatch_request()\n",
            "  File \"/usr/local/lib/python3.9/dist-packages/flask/app.py\", line 1825, in full_dispatch_request\n",
            "    rv = self.handle_user_exception(e)\n",
            "  File \"/usr/local/lib/python3.9/dist-packages/flask_cors/extension.py\", line 165, in wrapped_function\n",
            "    return cors_after_request(app.make_response(f(*args, **kwargs)))\n",
            "  File \"/usr/local/lib/python3.9/dist-packages/flask/app.py\", line 1823, in full_dispatch_request\n",
            "    rv = self.dispatch_request()\n",
            "  File \"/usr/local/lib/python3.9/dist-packages/flask/app.py\", line 1799, in dispatch_request\n",
            "    return self.ensure_sync(self.view_functions[rule.endpoint])(**view_args)\n",
            "  File \"/usr/local/lib/python3.9/dist-packages/flask_cors/decorator.py\", line 128, in wrapped_function\n",
            "    resp = make_response(f(*args, **kwargs))\n",
            "  File \"<ipython-input-24-49f7e89d013e>\", line 61, in predict\n",
            "    print(manual_testing(data))\n",
            "  File \"<ipython-input-24-49f7e89d013e>\", line 46, in manual_testing\n",
            "    pred_RFC = RFC.predict(new_xv_test)\n",
            "  File \"/usr/local/lib/python3.9/dist-packages/sklearn/ensemble/_forest.py\", line 820, in predict\n",
            "    proba = self.predict_proba(X)\n",
            "  File \"/usr/local/lib/python3.9/dist-packages/sklearn/ensemble/_forest.py\", line 862, in predict_proba\n",
            "    X = self._validate_X_predict(X)\n",
            "  File \"/usr/local/lib/python3.9/dist-packages/sklearn/ensemble/_forest.py\", line 602, in _validate_X_predict\n",
            "    X = self._validate_data(X, dtype=DTYPE, accept_sparse=\"csr\", reset=False)\n",
            "  File \"/usr/local/lib/python3.9/dist-packages/sklearn/base.py\", line 588, in _validate_data\n",
            "    self._check_n_features(X, reset=reset)\n",
            "  File \"/usr/local/lib/python3.9/dist-packages/sklearn/base.py\", line 389, in _check_n_features\n",
            "    raise ValueError(\n",
            "ValueError: X has 263311 features, but RandomForestClassifier is expecting 297753 features as input.\n",
            "INFO:werkzeug:127.0.0.1 - - [16/Apr/2023 08:16:50] \"\u001b[35m\u001b[1mPOST /predict HTTP/1.1\u001b[0m\" 500 -\n"
          ]
        }
      ]
    },
    {
      "cell_type": "code",
      "source": [],
      "metadata": {
        "id": "39X_r_9hi6vB"
      },
      "execution_count": null,
      "outputs": []
    }
  ]
}